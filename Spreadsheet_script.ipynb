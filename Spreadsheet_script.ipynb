{
 "cells": [
  {
   "cell_type": "code",
   "execution_count": 8,
   "id": "8a8c4d4b-cf32-4b5d-85ef-94c1a4f5e1ef",
   "metadata": {},
   "outputs": [],
   "source": [
    "import pandas as pd"
   ]
  },
  {
   "cell_type": "code",
   "execution_count": 9,
   "id": "e508ec18-072b-49d7-a6c4-27913a8a5c9b",
   "metadata": {},
   "outputs": [],
   "source": [
    "data = pd.read_csv(r\"filepath\\ligprep_dft_spreadsheet.csv\") #or path to spreadsheet for molecular docking\n",
    "df = pd.DataFrame(data)\n",
    "\n",
    "df = df[df['Title'].str.startswith('CHEMBL')] #this code removes records that do not start with 'CHEMBL'. Match this string to your data"
   ]
  },
  {
   "cell_type": "code",
   "execution_count": 10,
   "id": "e45c71ec-8169-4c1e-90a7-b0cabfc5293a",
   "metadata": {},
   "outputs": [],
   "source": [
    "df_sorted = df.sort_values(by=['Title', 'State Penalty']) #or 'Docking Score' for molecular docking"
   ]
  },
  {
   "cell_type": "code",
   "execution_count": 11,
   "id": "8de3df44-c29f-4b99-8203-d7fd8f59bece",
   "metadata": {},
   "outputs": [],
   "source": [
    "df_sorted = df_sorted.drop_duplicates(subset=['Title'], keep='first')"
   ]
  },
  {
   "cell_type": "code",
   "execution_count": 12,
   "id": "657e2141-a643-46ea-82f2-ea868dd26de0",
   "metadata": {},
   "outputs": [],
   "source": [
    "list_of_entries_id = df_sorted['Entry ID'].to_list()\n",
    "series_of_entries_id = pd.Series(list_of_entries_id, name='Entry ID')\n",
    "\n",
    "# series_of_entries_id.to_csv(r\"C:\\Users\\OPERATOR\\Desktop\\CNNDock_2\\datasety_od_nowa\\kwanty\\ligprep_series_of_entries_id.csv\", index=False)"
   ]
  }
 ],
 "metadata": {
  "kernelspec": {
   "display_name": "Python 3 (ipykernel)",
   "language": "python",
   "name": "python3"
  },
  "language_info": {
   "codemirror_mode": {
    "name": "ipython",
    "version": 3
   },
   "file_extension": ".py",
   "mimetype": "text/x-python",
   "name": "python",
   "nbconvert_exporter": "python",
   "pygments_lexer": "ipython3",
   "version": "3.12.7"
  }
 },
 "nbformat": 4,
 "nbformat_minor": 5
}
