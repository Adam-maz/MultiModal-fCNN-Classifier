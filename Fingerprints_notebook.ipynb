{
  "nbformat": 4,
  "nbformat_minor": 0,
  "metadata": {
    "colab": {
      "provenance": [],
      "gpuType": "T4"
    },
    "kernelspec": {
      "name": "python3",
      "display_name": "Python 3"
    },
    "language_info": {
      "name": "python"
    },
    "accelerator": "GPU"
  },
  "cells": [
    {
      "cell_type": "markdown",
      "source": [
        "# **1) Initiall Instructions**"
      ],
      "metadata": {
        "id": "osMsq6Zgm1Pp"
      }
    },
    {
      "cell_type": "code",
      "execution_count": null,
      "metadata": {
        "id": "CXQ3lniWhlf5"
      },
      "outputs": [],
      "source": [
        "!pip install -q rdkit"
      ]
    },
    {
      "cell_type": "code",
      "source": [
        "from google.colab import drive\n",
        "drive.mount('/content/drive')"
      ],
      "metadata": {
        "id": "OFCxW3Sgh4Wl"
      },
      "execution_count": null,
      "outputs": []
    },
    {
      "cell_type": "code",
      "source": [
        "import pandas as pd\n",
        "import numpy as np\n",
        "import seaborn as sns\n",
        "import matplotlib.pyplot as plt\n",
        "import os\n",
        "\n",
        "from sklearn.model_selection import train_test_split, StratifiedKFold\n",
        "from sklearn.metrics import classification_report, confusion_matrix, accuracy_score, matthews_corrcoef\n",
        "\n",
        "from rdkit import Chem\n",
        "from rdkit.Chem.AllChem import GetMorganGenerator\n",
        "from rdkit.Chem.SaltRemover import SaltRemover\n",
        "\n",
        "import tensorflow as tf\n",
        "from tensorflow import keras\n",
        "from tensorflow.keras.callbacks import EarlyStopping\n",
        "\n",
        "tf.keras.utils.set_random_seed(42)"
      ],
      "metadata": {
        "id": "cbw3iQERh59x"
      },
      "execution_count": null,
      "outputs": []
    },
    {
      "cell_type": "markdown",
      "source": [
        "# **2) Data Preparation**"
      ],
      "metadata": {
        "id": "Ha0EwVQHzyh_"
      }
    },
    {
      "cell_type": "code",
      "source": [
        "#Path to DataFrame containing parsed molecules from ChEMBL\n",
        "data = pd.read_csv(r'/content/drive/MyDrive/CNNDock_2__poprawki/path', usecols=['Molecule ChEMBL ID', 'Smiles', 'Bin_Activity'])\n",
        "df = pd.DataFrame(data)\n",
        "\n",
        "list_of_esters = ['CHEMBL4846931', 'CHEMBL4849680', 'CHEMBL4863967', 'CHEMBL4867606', 'CHEMBL4874372', 'CHEMBL5431767', 'CHEMBL5430776', 'CHEMBL5412404', 'CHEMBL5398411', 'CHEMBL5438068']\n",
        "df = df[~df['Molecule ChEMBL ID'].isin(list_of_esters)]"
      ],
      "metadata": {
        "id": "ruy_1_KUh84j"
      },
      "execution_count": null,
      "outputs": []
    },
    {
      "cell_type": "code",
      "source": [
        "#Fingerprint generation and salt removal\n",
        "morgan_gen = GetMorganGenerator(fpSize=8192, radius=5)\n",
        "remover = SaltRemover()\n",
        "\n",
        "fps_list = []\n",
        "for smiles in df['Smiles']:\n",
        "  mol = Chem.MolFromSmiles(smiles)\n",
        "  mol = remover.StripMol(mol)\n",
        "  fps_list.append(morgan_gen.GetFingerprint(mol))\n",
        "\n",
        "df['fps'] = fps_list"
      ],
      "metadata": {
        "id": "lJ_tBUg4h_II"
      },
      "execution_count": null,
      "outputs": []
    },
    {
      "cell_type": "code",
      "source": [
        "\"\"\"In order to keep the datasets equal, it is necessary to perform the intersection of image sets\"\"\"\n",
        "\n",
        "#Path to images after docking\n",
        "path_dock = r'/content/drive/MyDrive/CNNDock_2__poprawki/datasety_od_nowa/dokowanie/images_docking_sprawdzona_rozdzielczosc/images_docking_sprawdzona_rozdzielczosc'\n",
        "\n",
        "#Path to images after DFT optimization\n",
        "path_quanta = r'/content/drive/MyDrive/CNNDock_2__poprawki/datasety_od_nowa/kwanty/images_quanta/images_dft'\n",
        "\n",
        "list_dock = [elem.split('_')[0] for elem in os.listdir(path_dock)]\n",
        "list_quanta = [elem.split('_')[0] for elem in os.listdir(path_quanta)]\n",
        "\n",
        "print(len(list_dock))\n",
        "print(len(list_quanta))\n",
        "\n",
        "common_idx = list(set(list_dock) & set(list_quanta))\n",
        "print(len(common_idx))"
      ],
      "metadata": {
        "id": "Nb0TnD_LiCN_"
      },
      "execution_count": null,
      "outputs": []
    },
    {
      "cell_type": "code",
      "source": [
        "#Labels, fingerprints and ChEMBL IDs extraction, which is consistent with above intersection\n",
        "labels_list = df[df['Molecule ChEMBL ID'].isin(common_idx)]['Bin_Activity'].tolist()\n",
        "fps_list = df[df['Molecule ChEMBL ID'].isin(common_idx)]['fps'].tolist()\n",
        "chembl_list = df[df['Molecule ChEMBL ID'].isin(common_idx)]['Molecule ChEMBL ID'].tolist()\n",
        "\n",
        "labels_arr = np.array(labels_list)\n",
        "fps_arr = np.array(fps_list)\n",
        "\n",
        "print(labels_arr.shape)\n",
        "print(fps_arr.shape)"
      ],
      "metadata": {
        "id": "DZeP_wRKiEdb"
      },
      "execution_count": null,
      "outputs": []
    },
    {
      "cell_type": "markdown",
      "source": [
        "# **3) 5-Fold Crossvalidation**"
      ],
      "metadata": {
        "id": "S_h-rW-vz1vD"
      }
    },
    {
      "cell_type": "code",
      "source": [
        "#5-fold crossvalidation\n",
        "callback = keras.callbacks.EarlyStopping(monitor='val_accuracy', patience=3)\n",
        "fold_no = 1\n",
        "skfold = StratifiedKFold(n_splits=5, shuffle=True, random_state=42)\n",
        "\n",
        "all_folds_scores_history = {'val_acc': [], 'mcc': []}\n",
        "\n",
        "for train, test in skfold.split(fps_arr, labels_arr):\n",
        "  x_fps_input = keras.layers.Input(shape=(8192,))\n",
        "\n",
        "  x_fps = keras.layers.Dense(128, activation='relu')(x_fps_input)\n",
        "  x_fps = keras.layers.Dropout(0.3)(x_fps)\n",
        "  x_fps = keras.layers.Dense(64, activation='relu')(x_fps)\n",
        "  x_fps = keras.layers.Dropout(0.3)(x_fps)\n",
        "  x_fps = keras.layers.Dense(32, activation='relu')(x_fps)\n",
        "  x_fps = keras.layers.Dropout(0.3)(x_fps)\n",
        "  output = keras.layers.Dense(1, activation='sigmoid')(x_fps)\n",
        "\n",
        "  model = keras.models.Model(inputs=x_fps_input, outputs=output,)\n",
        "  model.compile(optimizer='adam', loss='binary_crossentropy', metrics=['accuracy'])\n",
        "\n",
        "\n",
        "\n",
        "  print(f'Fold {fold_no} ...')\n",
        "\n",
        "  history = model.fit(\n",
        "    fps_arr[train], labels_arr[train],\n",
        "    batch_size=32,\n",
        "    epochs=20,\n",
        "    verbose=0,\n",
        "    callbacks=[callback],\n",
        "    validation_data=(fps_arr[test], labels_arr[test])\n",
        "    )\n",
        "\n",
        "  mean_acc_per_fold = np.mean(history.history['val_accuracy'])\n",
        "  all_folds_scores_history['val_acc'].append(mean_acc_per_fold)\n",
        "\n",
        "  y_pred_probs = model.predict(fps_arr[test])\n",
        "  y_pred = (y_pred_probs > 0.5).astype(int)\n",
        "  mcc = matthews_corrcoef(labels_arr[test], y_pred)\n",
        "  all_folds_scores_history['mcc'].append(mcc)\n",
        "\n",
        "  fold_no += 1\n",
        "\n",
        "print()\n",
        "print(f'Average Accuracy for 5-fold crossvalidation: {np.mean(all_folds_scores_history[\"val_acc\"]):.2f}')\n",
        "print(f'Average MCC for 5-fold crossvalidation: {np.mean(all_folds_scores_history[\"mcc\"]):.2f}')\n"
      ],
      "metadata": {
        "id": "dLo_7h4qlscS"
      },
      "execution_count": null,
      "outputs": []
    },
    {
      "cell_type": "markdown",
      "source": [
        "# **4) Model Builiding, Training and Prediction**"
      ],
      "metadata": {
        "id": "atnxQ70z3EiS"
      }
    },
    {
      "cell_type": "code",
      "source": [
        "#Data splitting (train set and test set) and training (with EarlyStopping to prevent overfitting)\n",
        "X_train, X_test, y_train, y_test, chembl_train, chembl_test = train_test_split(fps_arr, labels_arr, chembl_list, test_size=0.2, random_state=42, stratify=labels_list)\n",
        "callback = keras.callbacks.EarlyStopping(monitor='val_accuracy', patience=3, restore_best_weights=True)"
      ],
      "metadata": {
        "id": "OgyhAoQyjqJT"
      },
      "execution_count": null,
      "outputs": []
    },
    {
      "cell_type": "code",
      "source": [
        "#Creating a model and training\n",
        "x_fps_input = keras.layers.Input(shape=(8192,))\n",
        "\n",
        "x_fps = keras.layers.Dense(128, activation='relu')(x_fps_input)\n",
        "x_fps = keras.layers.Dropout(0.3)(x_fps)\n",
        "x_fps = keras.layers.Dense(64, activation='relu')(x_fps)\n",
        "x_fps = keras.layers.Dropout(0.3)(x_fps)\n",
        "x_fps = keras.layers.Dense(32, activation='relu')(x_fps)\n",
        "x_fps = keras.layers.Dropout(0.3)(x_fps)\n",
        "output = keras.layers.Dense(1, activation='sigmoid')(x_fps)\n",
        "\n",
        "model = keras.models.Model(inputs=x_fps_input, outputs=output,)\n",
        "model.compile(optimizer='adam', loss='binary_crossentropy', metrics=['accuracy'])\n",
        "\n",
        "\n",
        "history = model.fit(X_train, y_train, epochs=20, batch_size=32, validation_data=(X_test, y_test), callbacks=[callback])"
      ],
      "metadata": {
        "id": "bIcxXOjqym5j"
      },
      "execution_count": null,
      "outputs": []
    },
    {
      "cell_type": "code",
      "source": [
        "#Training visualizations\n",
        "fig, ax = plt.subplots(1, 2, figsize=(12, 4))\n",
        "ax[0].plot(history.history['accuracy'], label='Training Accuracy')\n",
        "ax[0].plot(history.history['val_accuracy'], label='Validation Accuracy')\n",
        "ax[0].set_xlabel('Epochs')\n",
        "ax[0].set_ylabel('Accuracy')\n",
        "ax[0].set_title('Training and Validation Accuracy')\n",
        "ax[0].legend()\n",
        "\n",
        "\n",
        "ax[1].plot(history.history['loss'], label='Training Loss')\n",
        "ax[1].plot(history.history['val_loss'], label='Validation Loss')\n",
        "ax[1].set_xlabel('Epochs')\n",
        "ax[1].set_ylabel('Loss')\n",
        "ax[1].set_title('Training and Validation Loss')\n",
        "ax[1].legend()\n",
        "\n",
        "plt.legend()\n",
        "plt.tight_layout()\n",
        "plt.show()\n",
        "\n"
      ],
      "metadata": {
        "id": "JJrEDfSjob9d"
      },
      "execution_count": null,
      "outputs": []
    },
    {
      "cell_type": "code",
      "source": [
        "#Test set labels prediction\n",
        "y_pred = model.predict(X_test, batch_size=32)\n",
        "y_pred = np.where(y_pred > 0.5, 1, 0)\n",
        "\n",
        "test_acc = accuracy_score(y_test, y_pred)\n",
        "test_classification_report = classification_report(y_test, y_pred)\n",
        "test_confusion_matrix = confusion_matrix(y_test, y_pred)\n",
        "test_mcc = matthews_corrcoef(y_test, y_pred)\n",
        "\n",
        "print(f'Test Accuracy: {test_acc}')\n",
        "print(f'Test MCC: {test_mcc}')\n",
        "print(f'Test Classification Report:\\n{test_classification_report}')"
      ],
      "metadata": {
        "id": "wz0_E1bzont5"
      },
      "execution_count": null,
      "outputs": []
    },
    {
      "cell_type": "code",
      "source": [
        "#Test set labels prediction - confusion matrix\n",
        "plt.figure(figsize=(8, 6))\n",
        "sns.heatmap(test_confusion_matrix, annot=True, fmt='d', cmap='Blues')\n",
        "plt.xlabel('Predicted')\n",
        "plt.ylabel('True')\n",
        "plt.title('Confusion Matrix')\n",
        "plt.text(0, 2.4, f'Test accuracy: {100*test_acc:.2f}%', fontsize=15)\n",
        "plt.text(0, 2.5, f'Test mcc: {test_mcc:.2f}', fontsize=15)"
      ],
      "metadata": {
        "id": "mAxn2L7mosUP"
      },
      "execution_count": null,
      "outputs": []
    },
    {
      "cell_type": "code",
      "source": [
        "#Labels comparison (true vs predicted for test set)\n",
        "df = pd.DataFrame({\n",
        "    'chembl_id': chembl_test,\n",
        "    'true': y_test,\n",
        "    'pred': y_pred.flatten()\n",
        "})\n",
        "\n",
        "for chembl_id, group in df.groupby('chembl_id'):\n",
        "    true_vals = group['true'].values\n",
        "    pred_vals = group['pred'].values\n",
        "    if not np.array_equal(true_vals, pred_vals):\n",
        "        print(f\"Chembl ID: {chembl_id}.Bad predictions {30*'x'}\")\n",
        "    print(f\"{chembl_id}\")\n",
        "    print(f\"True:      {true_vals}\")\n",
        "    print(f\"Predicted: {pred_vals}\")\n",
        "    print(\"-\" * 30)"
      ],
      "metadata": {
        "id": "psZi36cToxpM"
      },
      "execution_count": null,
      "outputs": []
    },
    {
      "cell_type": "code",
      "source": [
        "\"\"\"This commented cell allows user to save trained model to particular directory\"\"\"\n",
        "\n",
        "# os.chdir('/content/drive/MyDrive/pathtosave')\n",
        "\n",
        "# cnnmodel = model\n",
        "# path = os.path.join(os.getcwd(), 'model.joblib')\n",
        "# dump(cnnmodel, path)"
      ],
      "metadata": {
        "id": "esqogSoV233g"
      },
      "execution_count": null,
      "outputs": []
    }
  ]
}