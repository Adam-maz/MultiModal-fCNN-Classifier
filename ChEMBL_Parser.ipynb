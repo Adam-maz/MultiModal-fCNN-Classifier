{
  "nbformat": 4,
  "nbformat_minor": 0,
  "metadata": {
    "colab": {
      "provenance": []
    },
    "kernelspec": {
      "name": "python3",
      "display_name": "Python 3"
    },
    "language_info": {
      "name": "python"
    }
  },
  "cells": [
    {
      "cell_type": "markdown",
      "source": [
        "# **1) Initial Instructions**"
      ],
      "metadata": {
        "id": "yiRFeA2pYDZP"
      }
    },
    {
      "cell_type": "code",
      "execution_count": null,
      "metadata": {
        "id": "atrtYrdLGZ1A"
      },
      "outputs": [],
      "source": [
        "from google.colab import drive\n",
        "drive.mount('/content/drive')"
      ]
    },
    {
      "cell_type": "code",
      "source": [
        "%cd /content/drive/MyDrive/path"
      ],
      "metadata": {
        "id": "pKKl2GC1IB3a"
      },
      "execution_count": null,
      "outputs": []
    },
    {
      "cell_type": "code",
      "source": [
        "import pandas as pd\n",
        "import numpy as np\n",
        "import matplotlib.pyplot as plt"
      ],
      "metadata": {
        "id": "qBGwipnrGt3z"
      },
      "execution_count": null,
      "outputs": []
    },
    {
      "cell_type": "markdown",
      "source": [
        "# **2) Ki**"
      ],
      "metadata": {
        "id": "U_pf1flAYHle"
      }
    },
    {
      "cell_type": "code",
      "source": [
        "data_ki = pd.read_csv('/content/drive/MyDrive/path_ki.csv', sep=';', usecols=[0,7,8,9,10,11,35,36,38,45])\n",
        "df_ki = pd.DataFrame(data_ki)\n",
        "df_ki.shape"
      ],
      "metadata": {
        "id": "qIAAD0i3G55c"
      },
      "execution_count": null,
      "outputs": []
    },
    {
      "cell_type": "code",
      "source": [
        "df_ki = df_ki[df_ki['Action Type'].isin(['ANTAGONIST', 'INHIBITOR'])].copy()\n",
        "df_ki.shape"
      ],
      "metadata": {
        "id": "TkqFSdzCKI7j"
      },
      "execution_count": null,
      "outputs": []
    },
    {
      "cell_type": "markdown",
      "source": [
        "# **3) IC50**"
      ],
      "metadata": {
        "id": "_eicOpodX828"
      }
    },
    {
      "cell_type": "code",
      "source": [
        "data_ic50 = pd.read_csv('/content/drive/MyDrive/path_ic50.csv', sep=';', usecols=[0,7,8,9,10,11,35,36,38,45])\n",
        "df_ic50 = pd.DataFrame(data_ic50)"
      ],
      "metadata": {
        "id": "TNoqsVTlYRON"
      },
      "execution_count": null,
      "outputs": []
    },
    {
      "cell_type": "code",
      "source": [
        "df_ic50 = df_ic50[df_ic50['Action Type'].isin(['ANTAGONIST', 'INHIBITOR'])].copy()\n",
        "df_ic50['Standard Value'] = df_ic50['Standard Value']/2\n",
        "df_ic50.shape"
      ],
      "metadata": {
        "id": "ElHIf33XYROO"
      },
      "execution_count": null,
      "outputs": []
    },
    {
      "cell_type": "markdown",
      "source": [
        "# **4) Datasets merging**"
      ],
      "metadata": {
        "id": "18ccxjcYY3cM"
      }
    },
    {
      "cell_type": "code",
      "source": [
        "df_merge = pd.merge(df_ki, df_ic50, how='outer')\n",
        "df_merge['Standard Type'] = df_merge['Standard Type'].replace('IC50', 'Ki')\n",
        "df_merge = df_merge.dropna(subset=['Standard Value'])\n",
        "print(f'Merged df: {df_merge.shape}')"
      ],
      "metadata": {
        "id": "2ef3YnEpY7Ar"
      },
      "execution_count": null,
      "outputs": []
    },
    {
      "cell_type": "code",
      "source": [
        "df_merge_duplicated = df_merge[df_merge.duplicated(subset=['Molecule ChEMBL ID'], keep=False)].sort_values(by='Molecule ChEMBL ID')\n",
        "\n",
        "df_aggregated = (\n",
        "    df_merge_duplicated\n",
        "    .groupby('Molecule ChEMBL ID', as_index=False)\n",
        "    .agg({'Standard Value': 'mean', **{col: 'first' for col in df_merge_duplicated.columns if col not in ['Molecule ChEMBL ID', 'Standard Value']}})\n",
        ")\n",
        "df_merge = df_merge.drop_duplicates(subset=['Molecule ChEMBL ID'], keep=False)\n",
        "\n",
        "\n",
        "print(f'Duplicates count: {df_merge_duplicated.shape[0]}')\n",
        "print(f'Number of rows after aggregation: {df_aggregated.shape[0]}')\n",
        "print(f'Number of records after removing duplicates: {df_merge.shape[0]}')"
      ],
      "metadata": {
        "id": "IfU48m6A78yB"
      },
      "execution_count": null,
      "outputs": []
    },
    {
      "cell_type": "markdown",
      "source": [
        "# **5) Dataset Save**"
      ],
      "metadata": {
        "id": "BKopzkiZTRRu"
      }
    },
    {
      "cell_type": "code",
      "source": [
        "#Preprocessed DataFrame (with labels)\n",
        "df_final = pd.merge(df_merge, df_aggregated, how='outer')\n",
        "df_final['Bin_Activity'] = np.where(df_final['Standard Value'] <= 50, 1, 0)\n",
        "\n",
        "df_final.to_csv('df_final.csv', index=False, sep=',')\n",
        "df_final.shape"
      ],
      "metadata": {
        "id": "OjKHb_KkDG9s"
      },
      "execution_count": null,
      "outputs": []
    },
    {
      "cell_type": "code",
      "source": [
        "#Csv file for docking (only IDs and smiles)\n",
        "df_to_dock = df_final[['Molecule ChEMBL ID', 'Smiles']]\n",
        "df_to_dock.to_csv('df_to_dock.csv', index=False, sep=',')\n",
        "df_to_dock.shape"
      ],
      "metadata": {
        "id": "V0QRgYn-2h7J"
      },
      "execution_count": null,
      "outputs": []
    },
    {
      "cell_type": "markdown",
      "source": [
        "# **6) Classes Distribution Visualization**"
      ],
      "metadata": {
        "id": "ugs9eEThTmxb"
      }
    },
    {
      "cell_type": "code",
      "source": [
        "classes_distribution = df_final['Bin_Activity'].value_counts()\n",
        "\n",
        "bars_colors = ['green', 'orange']\n",
        "plt.figure(figsize=(8,6))\n",
        "plt.bar(classes_distribution.index, classes_distribution.values, color=bars_colors)\n",
        "plt.xticks(classes_distribution.index)\n",
        "plt.xlabel('Class')\n",
        "plt.ylabel('Count')\n",
        "plt.title('Classes Distribution')\n",
        "plt.grid()\n",
        "plt.gca().set_facecolor('#f0f0f0')\n",
        "plt.show()"
      ],
      "metadata": {
        "id": "vrtGssX06Mys"
      },
      "execution_count": null,
      "outputs": []
    }
  ]
}