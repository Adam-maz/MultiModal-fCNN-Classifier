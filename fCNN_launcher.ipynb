{
 "cells": [
  {
   "cell_type": "markdown",
   "id": "2226bbb6-de93-4e52-b5cf-34ac243d9d31",
   "metadata": {},
   "source": [
    "# **1) Initiall Instructions**"
   ]
  },
  {
   "cell_type": "code",
   "execution_count": null,
   "id": "fe7f5d89-8cfb-4cbb-81e5-c98ba2192490",
   "metadata": {
    "scrolled": true
   },
   "outputs": [],
   "source": [
    "!pip install -q rdkit\n",
    "!pip install -q tensorflow\n",
    "!pip install -q opencv-python"
   ]
  },
  {
   "cell_type": "code",
   "execution_count": null,
   "id": "5066472a-ef00-4501-82df-96ff266c75e2",
   "metadata": {},
   "outputs": [],
   "source": [
    "import pandas as pd\n",
    "import numpy as np\n",
    "import joblib\n",
    "import tensorflow as tf\n",
    "import glob\n",
    "import os\n",
    "import cv2\n",
    "\n",
    "from rdkit import Chem\n",
    "from rdkit.Chem.SaltRemover import SaltRemover\n",
    "from rdkit.Chem.AllChem import GetMorganGenerator"
   ]
  },
  {
   "cell_type": "markdown",
   "id": "a070a1a2-59b7-4c93-b396-f3e631ebb76c",
   "metadata": {},
   "source": [
    "# **2) Model Loading**"
   ]
  },
  {
   "cell_type": "code",
   "execution_count": null,
   "id": "3137e895-db4b-44f0-bb71-c5ae3977f6ed",
   "metadata": {},
   "outputs": [],
   "source": [
    "path = r\"filepath/fCNN_launching_dir\"\n",
    "os.chdir(path)\n",
    "\n",
    "for elem in os.listdir(os.getcwd()):\n",
    "    if elem.endswith('.joblib'):\n",
    "        fCNN_model = joblib.load(elem)\n",
    "        print('Model loaded succesfully!')\n",
    "    elif elem.endswith('.csv'):\n",
    "        data = pd.read_csv(elem)\n",
    "        print('Data loaded succesfully!')\n",
    "\n",
    "df = pd.DataFrame(data)\n",
    "df.head()"
   ]
  },
  {
   "cell_type": "markdown",
   "id": "23971e11-3aa0-4a6c-a587-f95842e4a616",
   "metadata": {},
   "source": [
    "# **3) Data Preparation**"
   ]
  },
  {
   "cell_type": "code",
   "execution_count": null,
   "id": "a60ea4d6-48ce-438c-84f6-1c83192c9d61",
   "metadata": {},
   "outputs": [],
   "source": [
    "#Fingerprint generation and salt removal\n",
    "morgan_gen = GetMorganGenerator(fpSize=8192, radius=5)\n",
    "remover = SaltRemover()\n",
    "\n",
    "fps_list = []\n",
    "for smiles in df['smiles']:\n",
    "  mol = Chem.MolFromSmiles(smiles)\n",
    "  mol = remover.StripMol(mol)\n",
    "  fps_list.append(morgan_gen.GetFingerprint(mol))\n",
    "\n",
    "df['fps'] = fps_list"
   ]
  },
  {
   "cell_type": "code",
   "execution_count": null,
   "id": "7c973d29-0490-413c-a48a-fe93c085e3c7",
   "metadata": {},
   "outputs": [],
   "source": [
    "\"\"\"This section is responsible for loading images and data intergration (images-fingerprints). Fragment '/**/*.png' is essential for recursive search with glob. \"\"\"\n",
    "\n",
    "path_for_data = r\"filepath/fCNN_launching_dir/**/*.png\"\n",
    "\n",
    "images = glob.glob(path_for_data, recursive=True)\n",
    "chembl_id_list = df['id'].to_list()\n",
    "img_list = []\n",
    "fps_list = []\n",
    "\n",
    "for idx, image in enumerate(images):\n",
    "  for id in chembl_id_list:\n",
    "    if id in os.path.basename(image):\n",
    "\n",
    "      img = cv2.imread(image)\n",
    "      img = cv2.cvtColor(img, cv2.COLOR_BGR2RGB)\n",
    "      resized_image = cv2.resize(img, (224, 224), interpolation=cv2.INTER_AREA)\n",
    "      img_list.append(resized_image)\n",
    "      fps_list.append(np.array(df[df['id'] == id]['fps'].values[0]))\n",
    "    \n",
    "print(len(img_list))\n",
    "print(len(fps_list))\n",
    "print()"
   ]
  },
  {
   "cell_type": "code",
   "execution_count": null,
   "id": "970412b6-375d-41d1-968d-60108213d735",
   "metadata": {},
   "outputs": [],
   "source": [
    "#Converting lists to arrays\n",
    "fps_arr = np.array(fps_list)\n",
    "img_arr = np.array(img_list)\n",
    "\n",
    "#Scaling values to 0-1 range\n",
    "img_arr = img_arr.astype(np.float32, copy=False)\n",
    "img_arr /= 255.0"
   ]
  },
  {
   "cell_type": "markdown",
   "id": "260a61e0-0fb1-489a-97cf-3fe755b57de1",
   "metadata": {},
   "source": [
    "# **4) Prediction**"
   ]
  },
  {
   "cell_type": "code",
   "execution_count": null,
   "id": "819719b9-f289-4a7a-877b-b40e018863c8",
   "metadata": {},
   "outputs": [],
   "source": [
    "#Prediction \n",
    "y_pred = fCNN_model.predict([img_arr, fps_arr])\n",
    "y_pred = np.where(y_pred > 0.5, 1, 0)"
   ]
  },
  {
   "cell_type": "code",
   "execution_count": null,
   "id": "f2a5b1f0-5bb8-42c7-a8be-a78a2ef2094d",
   "metadata": {},
   "outputs": [],
   "source": [
    "#Labels Display\n",
    "y_pred = y_pred.flatten()\n",
    "for idx, elem in enumerate(chembl_id_list):\n",
    "    start = idx * 7\n",
    "    end = start + 7\n",
    "    print(elem) \n",
    "    print(f'Labels for each record of {elem}: {y_pred[start:end]}')\n",
    "    print()"
   ]
  }
 ],
 "metadata": {
  "kernelspec": {
   "display_name": "Python 3 (ipykernel)",
   "language": "python",
   "name": "python3"
  },
  "language_info": {
   "codemirror_mode": {
    "name": "ipython",
    "version": 3
   },
   "file_extension": ".py",
   "mimetype": "text/x-python",
   "name": "python",
   "nbconvert_exporter": "python",
   "pygments_lexer": "ipython3",
   "version": "3.12.7"
  }
 },
 "nbformat": 4,
 "nbformat_minor": 5
}
