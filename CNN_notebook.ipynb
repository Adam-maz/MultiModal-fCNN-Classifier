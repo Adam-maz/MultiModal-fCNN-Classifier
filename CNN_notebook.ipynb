{
  "cells": [
    {
      "cell_type": "markdown",
      "source": [
        "# **1) Initiall Instructions**"
      ],
      "metadata": {
        "id": "RvcYgbdYK7PK"
      }
    },
    {
      "cell_type": "code",
      "execution_count": null,
      "metadata": {
        "id": "XFNo9kOXTa_b"
      },
      "outputs": [],
      "source": [
        "!pip install -q rdkit"
      ]
    },
    {
      "cell_type": "code",
      "execution_count": null,
      "metadata": {
        "id": "JCXOfEZzAgg8"
      },
      "outputs": [],
      "source": [
        "from google.colab import drive\n",
        "drive.mount('/content/drive')"
      ]
    },
    {
      "cell_type": "code",
      "execution_count": null,
      "metadata": {
        "id": "V-sZiyiOEVxw"
      },
      "outputs": [],
      "source": [
        "import pandas as pd\n",
        "import glob\n",
        "import os\n",
        "import numpy as np\n",
        "import tensorflow as tf\n",
        "import cv2\n",
        "import seaborn as sns\n",
        "from joblib import dump\n",
        "from collections import Counter\n",
        "\n",
        "from sklearn.model_selection import train_test_split, StratifiedKFold\n",
        "from sklearn.metrics import classification_report, confusion_matrix, accuracy_score, matthews_corrcoef\n",
        "import matplotlib.pyplot as plt\n",
        "\n",
        "from rdkit import Chem\n",
        "from rdkit.Chem.AllChem import GetMorganGenerator\n",
        "from rdkit.Chem.SaltRemover import SaltRemover\n",
        "\n",
        "import tensorflow as tf   \n",
        "from tensorflow import keras\n",
        "from tensorflow.keras import applications\n",
        "from tensorflow.keras.applications import DenseNet201\n",
        "from tensorflow.keras.callbacks import EarlyStopping\n",
        "\n",
        "tf.keras.utils.set_random_seed(42)"
      ]
    },
    {
      "cell_type": "markdown",
      "source": [
        "# **2) Data Preparation**"
      ],
      "metadata": {
        "id": "GTBtYPPBLLCG"
      }
    },
    {
      "cell_type": "code",
      "execution_count": null,
      "metadata": {
        "collapsed": true,
        "id": "CF_QLT8YXoVV"
      },
      "outputs": [],
      "source": [
        "#Path to DataFrame containing parsed molecules from ChEMBL\n",
        "data = pd.read_csv(r'/content/drive/MyDrive/path', usecols=['Molecule ChEMBL ID', 'Smiles', 'Bin_Activity'])\n",
        "df = pd.DataFrame(data)\n",
        "\n",
        "list_of_esters = ['CHEMBL4846931', 'CHEMBL4849680', 'CHEMBL4863967', 'CHEMBL4867606', 'CHEMBL4874372', 'CHEMBL5431767', 'CHEMBL5430776', 'CHEMBL5412404', 'CHEMBL5398411', 'CHEMBL5438068']\n",
        "df = df[~df['Molecule ChEMBL ID'].isin(list_of_esters)]"
      ]
    },
    {
      "cell_type": "code",
      "execution_count": null,
      "metadata": {
        "id": "bcw0aqffw4Xj"
      },
      "outputs": [],
      "source": [
        "\"\"\"In order to keep the datasets equal for both variants of images, it is necessary to perform the intersection of both sets\"\"\"\n",
        "\n",
        "#Path to images after docking\n",
        "path_dock = r'/content/drive/MyDrive/CNNDock_2__poprawki/datasety_od_nowa/dokowanie/images_docking_sprawdzona_rozdzielczosc/images_docking_sprawdzona_rozdzielczosc'\n",
        "\n",
        "#Path to images after DFT optimization\n",
        "path_quanta = r'/content/drive/MyDrive/CNNDock_2__poprawki/datasety_od_nowa/kwanty/images_quanta/images_dft'\n",
        "\n",
        "\n",
        "list_dock = [elem.split('_')[0] for elem in os.listdir(path_dock)]\n",
        "list_quanta = [elem.split('_')[0] for elem in os.listdir(path_quanta)]\n",
        "\n",
        "print(len(list_dock))\n",
        "print(len(list_quanta))\n",
        "\n",
        "common_idx = list(set(list_dock) & set(list_quanta))\n",
        "print(len(common_idx))"
      ]
    },
    {
      "cell_type": "code",
      "execution_count": null,
      "metadata": {
        "id": "yXBgRFw9-zm3"
      },
      "outputs": [],
      "source": [
        "\"\"\"This section is responsible for loading images. Below are the paths (commented) to 2 data sets: images after docking and after DFT minimization.\n",
        "To load a specific data set, uncomment one particular line of code\"\"\"\n",
        "\n",
        "#path = r'/content/drive/MyDrive/CNNDock_2__poprawki/datasety_od_nowa/dokowanie/images_docking_sprawdzona_rozdzielczosc/images_docking_sprawdzona_rozdzielczosc/**/*.png'\n",
        "#path = r'/content/drive/MyDrive/CNNDock_2__poprawki/datasety_od_nowa/kwanty/images_quanta/images_dft/**/*.png'\n",
        "\n",
        "images = glob.glob(path, recursive=True)\n",
        "\n",
        "img_list = []\n",
        "img_labels = []\n",
        "id_counter = Counter()\n",
        "chembl_idx = []\n",
        "\n",
        "for idx, image in enumerate(images):\n",
        "    filename = os.path.basename(image)\n",
        "    image_id = next((part for part in filename.split('_') if part.startswith('CHEMBL')), None)\n",
        "\n",
        "    if image_id and image_id in common_idx:\n",
        "        id_counter[image_id] += 1\n",
        "        chembl_idx.append(image_id)\n",
        "\n",
        "        img = cv2.imread(image)\n",
        "        img = cv2.cvtColor(img, cv2.COLOR_BGR2RGB)\n",
        "        resized_image = cv2.resize(img, (224, 224), interpolation=cv2.INTER_AREA)\n",
        "\n",
        "        img_list.append(resized_image)\n",
        "        img_labels.append(df[df['Molecule ChEMBL ID'] == image_id]['Bin_Activity'].values[0])\n",
        "\n",
        "print(len(img_list))\n",
        "print(len(img_labels))\n",
        "print()\n",
        "print(id_counter.most_common(10))"
      ]
    },
    {
      "cell_type": "code",
      "execution_count": null,
      "metadata": {
        "id": "qloKHhcof02_"
      },
      "outputs": [],
      "source": [
        "#Check whether the images are loaded correctly\n",
        "plt.imshow(img_list[0])"
      ]
    },
    {
      "cell_type": "code",
      "execution_count": null,
      "metadata": {
        "id": "qAJMo5ioK5hr"
      },
      "outputs": [],
      "source": [
        "#Converting lists to arrays\n",
        "img_labels = np.array(img_labels)\n",
        "img_arr = np.array(img_list)\n",
        "\n",
        "#Scaling values to 0-1 range\n",
        "img_arr = img_arr.astype(np.float32, copy=False)\n",
        "img_arr /= 255.0"
      ]
    },
    {
      "cell_type": "markdown",
      "source": [
        "# **3) 5-Fold Crossvalidation**"
      ],
      "metadata": {
        "id": "h4uDczyohzzz"
      }
    },
    {
      "cell_type": "code",
      "execution_count": null,
      "metadata": {
        "id": "7N_8lUmbO72s"
      },
      "outputs": [],
      "source": [
        "#5-fold crossvalidation\n",
        "\n",
        "callback = keras.callbacks.EarlyStopping(monitor='val_accuracy', patience=3)\n",
        "fold_no = 1\n",
        "skfold = StratifiedKFold(n_splits=5, shuffle=True, random_state=42)\n",
        "\n",
        "all_folds_scores_history = {'val_acc': [], 'mcc': []}\n",
        "\n",
        "for train, test in skfold.split(img_arr, img_labels):\n",
        "    base_model = DenseNet201(weights='imagenet', include_top=False, input_shape=(224, 224, 3))\n",
        "    base_model.trainable = False\n",
        "\n",
        "    x = keras.layers.GlobalAveragePooling2D()(base_model.output)\n",
        "    x = keras.layers.Dense(128, activation='relu')(x)\n",
        "    x = keras.layers.Dropout(0.3)(x)\n",
        "    x = keras.layers.Dense(64, activation='relu')(x)\n",
        "    x = keras.layers.Dropout(0.3)(x)\n",
        "    x = keras.layers.Dense(32, activation='relu')(x)\n",
        "    x = keras.layers.Dropout(0.3)(x)\n",
        "    output = keras.layers.Dense(1, activation='sigmoid')(x)\n",
        "\n",
        "    model = keras.models.Model(inputs=base_model.input, outputs=output)\n",
        "    model.compile(optimizer='adam', loss='binary_crossentropy', metrics=[\"accuracy\"])\n",
        "\n",
        "    print(f'Fold {fold_no} ...')\n",
        "\n",
        "    history = model.fit(\n",
        "        img_arr[train], img_labels[train],\n",
        "        batch_size=32,\n",
        "        epochs=20,\n",
        "        verbose=0,\n",
        "        callbacks=[callback],\n",
        "        validation_data=(img_arr[test], img_labels[test])\n",
        "    )\n",
        "\n",
        "    mean_acc_per_fold = np.mean(history.history['val_accuracy'])\n",
        "    all_folds_scores_history['val_acc'].append(mean_acc_per_fold)\n",
        "\n",
        "    y_pred_probs = model.predict(img_arr[test])\n",
        "    y_pred = (y_pred_probs > 0.5).astype(int)\n",
        "    mcc = matthews_corrcoef(img_labels[test], y_pred)\n",
        "    all_folds_scores_history['mcc'].append(mcc)\n",
        "\n",
        "    fold_no += 1\n",
        "\n",
        "print()\n",
        "print(f'Average Accuracy for 5-fold crossvalidation: {np.mean(all_folds_scores_history[\"val_acc\"]):.2f}')\n",
        "print(f'Average MCC for 5-fold crossvalidation: {np.mean(all_folds_scores_history[\"mcc\"]):.2f}')"
      ]
    },
    {
      "cell_type": "markdown",
      "source": [
        "# **4) Model Building, Training and Predicition**"
      ],
      "metadata": {
        "id": "xNbiPjzwh-sl"
      }
    },
    {
      "cell_type": "code",
      "execution_count": null,
      "metadata": {
        "id": "gtaizLUAOOpS"
      },
      "outputs": [],
      "source": [
        "# Creating a model - frozen (base_model.trainable = False) \"imagenet\" weights were used\n",
        "base_model = DenseNet201(weights='imagenet', include_top=False, input_shape=(224, 224, 3))\n",
        "base_model.trainable = False\n",
        "\n",
        "x = keras.layers.GlobalAveragePooling2D()(base_model.output)\n",
        "x = keras.layers.Dense(128, activation='relu')(x)\n",
        "x = keras.layers.Dropout(0.3)(x)\n",
        "x = keras.layers.Dense(64, activation='relu')(x)\n",
        "x = keras.layers.Dropout(0.3)(x)\n",
        "x = keras.layers.Dense(32, activation='relu')(x)\n",
        "x = keras.layers.Dropout(0.3)(x)\n",
        "output = keras.layers.Dense(1, activation='sigmoid')(x)\n",
        "\n",
        "model = keras.models.Model(inputs=base_model.input, outputs=output,)\n",
        "model.compile(optimizer='adam', loss='binary_crossentropy', metrics=['accuracy'])"
      ]
    },
    {
      "cell_type": "code",
      "execution_count": null,
      "metadata": {
        "collapsed": true,
        "id": "fYYzKZn1OOpV"
      },
      "outputs": [],
      "source": [
        "#Data splitting (train set and test set) and training (with EarlyStopping to prevent overfitting)\n",
        "X_train_img, X_test_img, y_train, y_test, chembl_train, chembl_test = train_test_split(\n",
        "    img_arr, img_labels, chembl_idx,\n",
        "    test_size=0.2,\n",
        "    random_state=42,\n",
        "    stratify=img_labels\n",
        ")\n",
        "callback2 = keras.callbacks.EarlyStopping(monitor='val_accuracy', patience=3, restore_best_weights=True)\n",
        "\n",
        "\n",
        "history = model.fit(X_train_img, y_train, epochs=20, batch_size=32, validation_data=(X_test_img, y_test), callbacks=[callback2])"
      ]
    },
    {
      "cell_type": "code",
      "execution_count": null,
      "metadata": {
        "collapsed": true,
        "id": "O_iYdKWQOOpW"
      },
      "outputs": [],
      "source": [
        "#Training visualizations\n",
        "fig, ax = plt.subplots(1, 2, figsize=(12, 4))\n",
        "ax[0].plot(history.history['accuracy'], label='Training Accuracy')\n",
        "ax[0].plot(history.history['val_accuracy'], label='Validation Accuracy')\n",
        "ax[0].set_xlabel('Epochs')\n",
        "ax[0].set_ylabel('Accuracy')\n",
        "ax[0].set_title('Training and Validation Accuracy')\n",
        "ax[0].legend()\n",
        "\n",
        "\n",
        "ax[1].plot(history.history['loss'], label='Training Loss')\n",
        "ax[1].plot(history.history['val_loss'], label='Validation Loss')\n",
        "ax[1].set_xlabel('Epochs')\n",
        "ax[1].set_ylabel('Loss')\n",
        "ax[1].set_title('Training and Validation Loss')\n",
        "ax[1].legend()\n",
        "\n",
        "plt.legend()\n",
        "plt.tight_layout()\n",
        "plt.show()"
      ]
    },
    {
      "cell_type": "code",
      "execution_count": null,
      "metadata": {
        "collapsed": true,
        "id": "r5PymqKnOOpZ"
      },
      "outputs": [],
      "source": [
        "#Test set labels prediction\n",
        "y_pred = model.predict(X_test_img)\n",
        "y_pred = np.where(y_pred > 0.5, 1, 0)\n",
        "\n",
        "test_acc = accuracy_score(y_test, y_pred)\n",
        "test_classification_report = classification_report(y_test, y_pred)\n",
        "test_confusion_matrix = confusion_matrix(y_test, y_pred)\n",
        "test_mcc = matthews_corrcoef(y_test, y_pred)\n",
        "\n",
        "print(f'Test Accuracy: {test_acc}')\n",
        "print(f'Test MCC: {test_mcc}')\n",
        "print(f'Test Classification Report:\\n{test_classification_report}')"
      ]
    },
    {
      "cell_type": "code",
      "execution_count": null,
      "metadata": {
        "collapsed": true,
        "id": "EZJFVWIxOOpZ"
      },
      "outputs": [],
      "source": [
        "#Test set labels prediction - confusion matrix\n",
        "plt.figure(figsize=(8, 6))\n",
        "sns.heatmap(test_confusion_matrix, annot=True, fmt='d', cmap='Reds')\n",
        "plt.xlabel('Predicted')\n",
        "plt.ylabel('True')\n",
        "plt.title('Confusion Matrix')\n",
        "plt.text(0, 2.4, f'Test accuracy: {100*test_acc:.2f}%', fontsize=15)\n",
        "plt.text(0, 2.5, f'Test mcc: {test_mcc:.2f}', fontsize=15)"
      ]
    },
    {
      "cell_type": "code",
      "execution_count": null,
      "metadata": {
        "id": "DnyBCyqpOOpa"
      },
      "outputs": [],
      "source": [
        "#Labels comparison (true vs predicted for test set)\n",
        "df = pd.DataFrame({\n",
        "    'chembl_id': chembl_test,\n",
        "    'true': y_test,\n",
        "    'pred': y_pred.flatten()\n",
        "})\n",
        "\n",
        "for chembl_id, group in df.groupby('chembl_id'):\n",
        "    true_vals = group['true'].values\n",
        "    pred_vals = group['pred'].values\n",
        "    if not np.array_equal(true_vals, pred_vals):\n",
        "        print(f\"Chembl ID: {chembl_id}.Bad predictions {30*'❌'}\")\n",
        "    print(f\"{chembl_id}\")\n",
        "    print(f\"True:      {true_vals}\")\n",
        "    print(f\"Predicted: {pred_vals}\")\n",
        "    print(\"-\" * 30)\n"
      ]
    },
    {
      "cell_type": "code",
      "execution_count": null,
      "metadata": {
        "id": "jH-PShTzcEo_"
      },
      "outputs": [],
      "source": [
        "\"\"\"This commented cell allows user to save trained model to particular directory\"\"\"\n",
        "\n",
        "# os.chdir('/content/drive/MyDrive/pathtosave')\n",
        "\n",
        "# cnnmodel = model\n",
        "# path = os.path.join(os.getcwd(), 'model.joblib')\n",
        "# dump(cnnmodel, path)"
      ]
    }
  ],
  "metadata": {
    "accelerator": "GPU",
    "colab": {
      "gpuType": "T4",
      "machine_shape": "hm",
      "provenance": []
    },
    "kernelspec": {
      "display_name": "Python 3",
      "name": "python3"
    },
    "language_info": {
      "name": "python"
    }
  },
  "nbformat": 4,
  "nbformat_minor": 0
}
